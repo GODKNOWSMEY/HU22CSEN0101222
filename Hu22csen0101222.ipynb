{
  "nbformat": 4,
  "nbformat_minor": 0,
  "metadata": {
    "colab": {
      "provenance": [],
      "authorship_tag": "ABX9TyMrvZhcPXONuzTr9WDS65jX",
      "include_colab_link": true
    },
    "kernelspec": {
      "name": "python3",
      "display_name": "Python 3"
    },
    "language_info": {
      "name": "python"
    }
  },
  "cells": [
    {
      "cell_type": "markdown",
      "metadata": {
        "id": "view-in-github",
        "colab_type": "text"
      },
      "source": [
        "<a href=\"https://colab.research.google.com/github/GODKNOWSMEY/HU22CSEN0101222/blob/main/Hu22csen0101222.ipynb\" target=\"_parent\"><img src=\"https://colab.research.google.com/assets/colab-badge.svg\" alt=\"Open In Colab\"/></a>"
      ]
    },
    {
      "cell_type": "code",
      "execution_count": null,
      "metadata": {
        "id": "i_mx2CL4UOdC"
      },
      "outputs": [],
      "source": [
        "# Temperature_modeling Function\n",
        "def Temperature_modeling(a,b,c,time):\n",
        "  temp = a*time**2 + b*time + c\n",
        "  return temp"
      ]
    },
    {
      "cell_type": "code",
      "source": [
        "# STEP-1: Working with hardcoded variables\n",
        "a = 1\n",
        "b = 2\n",
        "c = 3\n",
        "time = 5\n",
        "print(f'The Predicted Temperature at time {time} hours: {Temperature_modeling(a,b,c,time)}')\n"
      ],
      "metadata": {
        "colab": {
          "base_uri": "https://localhost:8080/"
        },
        "id": "NCvRSTqZUsEm",
        "outputId": "17ef7703-e205-470a-e33b-6f1f3bbadcf9"
      },
      "execution_count": null,
      "outputs": [
        {
          "output_type": "stream",
          "name": "stdout",
          "text": [
            "The Predicted Temperature at time 5 hours: 38\n"
          ]
        }
      ]
    },
    {
      "cell_type": "code",
      "source": [
        "#STEP-2: Working with dynamic input\n",
        "a = float(input(\"Enter the value of A: \"))\n",
        "b = float(input(\"Enter the value of B: \"))\n",
        "c = float(input(\"Enter the value of C: \"))\n",
        "time = float(input(\"Enter the time: \"))\n",
        "print(f'The Predicted Temperature at time {time} hours: {Temperature_modeling(a,b,c,time)}')"
      ],
      "metadata": {
        "colab": {
          "base_uri": "https://localhost:8080/"
        },
        "id": "HfOEfvPmUx_M",
        "outputId": "2034f2fb-1650-4813-f310-567101a540ef"
      },
      "execution_count": null,
      "outputs": [
        {
          "output_type": "stream",
          "name": "stdout",
          "text": [
            "Enter the value of A: 1\n",
            "Enter the value of B: 2\n",
            "Enter the value of C: 3\n",
            "Enter the time: 4\n",
            "The Predicted Temperature at time 4.0 hours: 27.0\n"
          ]
        }
      ]
    },
    {
      "cell_type": "code",
      "source": [
        "#STEP-3: Reading a single input from the file\n",
        "with open(\"/content/sample_data/input.txt\",\"r\") as f:\n",
        "  numbers = [line.strip().split(\",\") for line in f.readlines()]\n",
        "  a,b,c,time = numbers[0]\n",
        "a = int(a)\n",
        "b = int(b)\n",
        "c = int(c)\n",
        "time = int(time)\n",
        "print(f'The Predicted Temperature at time {time} hours: {Temperature_modeling(a,b,c,time)}')\n"
      ],
      "metadata": {
        "colab": {
          "base_uri": "https://localhost:8080/"
        },
        "id": "jMFmTny2U4aV",
        "outputId": "b5c42b5f-7b73-46e3-f72e-caf6d910bfd0"
      },
      "execution_count": null,
      "outputs": [
        {
          "output_type": "stream",
          "name": "stdout",
          "text": [
            "The Predicted Temperature at time 4 hours: 27\n"
          ]
        }
      ]
    },
    {
      "cell_type": "code",
      "source": [
        "#STEP-4: Reading multiple inputs from the file\n",
        "with open(\"/content/sample_data/input.txt\",\"r\") as f:\n",
        "  numbers = [line.strip().split(\",\") for line in f.readlines()]\n",
        "  for i in numbers:\n",
        "    a,b,c,time = i\n",
        "    a = int(a)\n",
        "    b = int(b)\n",
        "    c = int(c)\n",
        "    time = int(time)\n",
        "    print(f'The Predicted Temperature at time {time} hours: {Temperature_modeling(a,b,c,time)}')"
      ],
      "metadata": {
        "colab": {
          "base_uri": "https://localhost:8080/"
        },
        "id": "Em_HTlRTVM8r",
        "outputId": "bb420340-4d74-4475-a25f-b37fd842f3c3"
      },
      "execution_count": null,
      "outputs": [
        {
          "output_type": "stream",
          "name": "stdout",
          "text": [
            "The Predicted Temperature at time 4 hours: 27\n",
            "The Predicted Temperature at time 8 hours: 375\n",
            "The Predicted Temperature at time 12 hours: 1427\n",
            "The Predicted Temperature at time 16 hours: 3311\n"
          ]
        }
      ]
    }
  ]
}